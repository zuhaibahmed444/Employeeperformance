{
 "cells": [
  {
   "cell_type": "markdown",
   "metadata": {},
   "source": [
    "# Employee Performance Analysis\n",
    "## INX Future Inc."
   ]
  },
  
  {
   "cell_type": "markdown",
   "metadata": {},
   "source": [
    "## Business Problem \n",
    "\n",
    "INX Future Inc , (referred as INX ) , is one of the leading data analytics and automation solutions provider \n",
    "with over 15 years of global business presence. INX is consistently rated as top 20 best employers past 5 \n",
    "years. INX human resource policies are considered as employee friendly and widely perceived as best \n",
    "practices in the industry. \n",
    "CEO, Mr. Brain, knows the issues but concerned to take any actions in penalizing non-performing \n",
    "employees as this would affect the employee morale of all the employees in general and may further \n",
    "reduce the performance."
   ]
  },
  {
   "cell_type": "markdown",
   "metadata": {},
   "source": [
    "## Expected Solution\n",
    "1. Department wise performances \n",
    "2. Top 3 Important Factors effecting employee performance \n",
    "3. A trained model which can predict the employee performance based on factors as inputs. This \n",
    "   will be used to hire employees \n",
    "4. Recommendations to improve the employee performance based on insights from analysis. "
   ]
  },
  {
   "cell_type": "markdown",
   "metadata": {},
   "source": [
    "### Analysis\n",
    "- The data is supervised and categorical. The predictor variables are ordinal and a few among them are nominal. The target variable 'Performance Rating' is ordinal(based on the rating). \n",
    "- The data given consist of details of 1200 Employee and 26 features(excluding the Employee Id and target variable)\n"
   ]
  },
  {
   "cell_type": "markdown",
   "metadata": {},
   "source": [
    "###  Categorical  Features\n",
    "These values classify the samples into sets of similar samples. \n",
    "\n",
    "- Gender\n",
    "- EducationBackground\n",
    "- MaritalStatus\n",
    "- EmpDepartment\n",
    "- EmpJobRole\n",
    "- BusinessTravelFrequency\n",
    "- EmpEducationLevel\n",
    "- EmpEnvironmentSatisfaction\n",
    "- EmpJobInvolvement\n",
    "- EmpJobLevel\n",
    "- EmpJobSatisfaction\n",
    "- OverTime\n",
    "- EmpRelationshipSatisfaction\n",
    "- EmpWorkLifeBalance\n",
    "- Attrition\n",
    "- PerformanceRating\n",
    "\n",
    "\n",
    "###  Numerical Features \n",
    "These values change from sample to sample. \n",
    "- Age\n",
    "- DistanceFromHome\n",
    "- EmpHourlyRate\n",
    "- NumCompaniesWorked\n",
    "- EmpLastSalaryHikePercent\n",
    "- TotalWorkExperienceInYears\n",
    "- TrainingTimesLastYear\n",
    "- ExperienceYearsAtThisCompany\n",
    "- ExperienceYearsInCurrentRole\n",
    "- YearsSinceLastPromotion\n",
    "- YearsWithCurrManager\n",
    "\n",
    "### Alphanumeric Features \n",
    "Numerical, alphanumeric data within same feature. These are candidates for correcting goal.\n",
    "Employee ID number is a mix of numeric and alphanumeric data types."
   ]
  },
  {
   "cell_type": "markdown",
   "metadata": {},
   "source": [
    "### Summary\n",
    "   The project was done with the purpose of finding out factors which affected the Performance of the employees, training a model which accurately predicts the Performance Rating of the employee, analyzing the data to provide recommendations to improve the performance and gain insights from the analysis.\n",
    "   The following steps were carried out:\n",
    "1. The data importing and cleaning was done using pandas .The step used in cleaning\n",
    "   - missing value\n",
    "   - outlier analysis \n",
    "   - checking of normalised value \n",
    "2. Data analysis was done using matplotlib \n",
    "3. EDA was carried out by checking\n",
    "   - correlation between the features\n",
    "   - normalised values\n",
    "   - the factors that effecting the performance\n",
    "   - linearity between the data \n",
    "4. Analysis of Department wise performance as prescribed\n",
    "   - In each department the the analysis was done based on the features eg.Experince ,Salary hike ,\n",
    "     years in the same company etc.\n",
    "3. Label Encoding the ordinal columns to encode and fit in the model.\n",
    "4. Calculate correlation coeffecient to find out the relationship between variables and then select the important features for analysis.\n",
    "5. Standardizing the data and splitting it into test and train.\n",
    "6. Training the data using algorithms like \n",
    "   - Support Vector Machine\n",
    "   - Decision Tree\n",
    "   - Decision Tree with GridSearchCV\n",
    "   - Random Forest with GridSearchCV\n",
    "   - K-Nearest Neighbor\n",
    "   - XGBoost Classifier\n",
    "7. Exporting the model with highest accuracy."
   ]
  },
  {
   "cell_type": "markdown",
   "metadata": {},
   "source": [
    "# Task 1(Department wise performances)\n",
    "   The department wise analysis of the data was done to get the insight \n",
    "### we have drawn some insights based on the department wise analysis \n",
    "- In sales  the Employee who have higher experince have a very good performance\n",
    "- Employee satisfaction plays an Important role in R and D department\n",
    "- Hike percenatge affect the performance of the team \n",
    "- In R and D department experince matters\n",
    "- In data science department even employee satisfaction has not considerable impact \n",
    "- The employee who are new in the HR department have a better performance\n",
    "- In sales team the Employee who has spent max time with same manager has better performance\n",
    "- Data science team has very less impact of the features \n"
   ]
  },
  {
   "cell_type": "markdown",
   "metadata": {},
   "source": [
    "# Task 2( Top 3 Important Factors effecting employee performance )\n",
    "\n",
    "- The top feature calculation was done using some of the function in the sklearn library \n",
    "  - Univariante Seelection -SelectKBest\n",
    "  - Features Importance - ExtraTreesClassifier\n",
    "\n",
    "### Top features which affect the performance of the employee are\n",
    "- EmpEnvironmentSatisfaction\n",
    "- EmpLastSalaryHikePercentage\n",
    "- YearsSinceLastPromotion"
   ]
  },
  {
   "cell_type": "markdown",
   "metadata": {},
   "source": [
    "# Task 3(A trained model which can predict the employee performance based on factors as inputs)\n",
    "\n",
    "### we applied several models on the data to check the accuracy to find which fits the most\n",
    "- RandomForest with GridsearchCV gave accuracy 93.33333%\n",
    "- XGBoost gave the accuracy of 92.22%\n",
    "- Decision Tree with GridsearchCV gave accuracy of 91.666%\n",
    "- Decision Tree gave accuracy of 91.3888%\n",
    "- Support Vector Machine gave accuracy of 80.83%\n",
    "- K-Nearest Neighbour gave accuracy of 73.333%\n",
    "\n",
    "### Hence we can conclude that RandomForest with GridSearchCV gives a best fit model with the accuracy of 93.33%\n",
    "- highest Accuracy model was exported to ml model as'inx_future_empPerfromenace.ml'\n",
    "\n",
    "This model can be used for the further recruitment"
   ]
  },
  {
   "cell_type": "markdown",
   "metadata": {},
   "source": [
    "# Task 4( Recommendations to improve the employee performance based on insights from analysis. )\n",
    "\n",
    "The following are the recommendation for enhancing the employee performance in the company\n",
    "1. Environment Satisfaction plays a major role in the employee performnace .Hence we recommend to enhance the EnvironmentSatisfaction in the office premises\n",
    "2. Next Important aspect is Employee salary hike percentage .This play as a role of motivator in the performance of the employee .Hence we recommend to stabilise the Salary Hike Percentage\n",
    "3. Another Important factor is Years Since last Promotion.If the employee is in same position for long time this might demotivate him for the better performnace. Hence we recommend to Reguralise the promotions based on the performance of the individual"
   ]
  },
  {
   "cell_type": "code",
   "execution_count": null,
   "metadata": {},
   "outputs": [],
   "source": []
  }
 ],
 "metadata": {
  "kernelspec": {
   "display_name": "Python 3",
   "language": "python",
   "name": "python3"
  },
  "language_info": {
   "codemirror_mode": {
    "name": "ipython",
    "version": 3
   },
   "file_extension": ".py",
   "mimetype": "text/x-python",
   "name": "python",
   "nbconvert_exporter": "python",
   "pygments_lexer": "ipython3",
   "version": "3.7.3"
  }
 },
 "nbformat": 4,
 "nbformat_minor": 2
}
